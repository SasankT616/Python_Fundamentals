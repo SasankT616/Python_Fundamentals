{
 "cells": [
  {
   "cell_type": "markdown",
   "id": "c7d4eccb",
   "metadata": {},
   "source": [
    "Write a program to input marks of three tests of a student (all integers). Then calculate and print the average of all test marks."
   ]
  },
  {
   "cell_type": "code",
   "execution_count": 1,
   "id": "d0dda598",
   "metadata": {},
   "outputs": [
    {
     "name": "stdout",
     "output_type": "stream",
     "text": [
      "3\n",
      "4\n",
      "6\n",
      "4.333333333333333\n"
     ]
    }
   ],
   "source": [
    "T1=int(input())\n",
    "T2=int(input())\n",
    "T3=int(input())\n",
    "Avg=(T1+T2+T3)/3\n",
    "print(Avg)"
   ]
  },
  {
   "cell_type": "markdown",
   "id": "473f4cd9",
   "metadata": {},
   "source": [
    "You are given two integers: X and N. You have to calculate X raised to power N and print it."
   ]
  },
  {
   "cell_type": "code",
   "execution_count": 2,
   "id": "e6ea8329",
   "metadata": {},
   "outputs": [
    {
     "name": "stdout",
     "output_type": "stream",
     "text": [
      "10\n",
      "4\n",
      "10000\n"
     ]
    }
   ],
   "source": [
    "x=int(input())\n",
    "n=int(input())\n",
    "P=x**n\n",
    "print(P)"
   ]
  },
  {
   "cell_type": "markdown",
   "id": "7f2adeaf",
   "metadata": {},
   "source": [
    "You are given first three entries of an arithmetic progression. You have to calculate the common difference and print it."
   ]
  },
  {
   "cell_type": "code",
   "execution_count": 3,
   "id": "f6809752",
   "metadata": {},
   "outputs": [
    {
     "name": "stdout",
     "output_type": "stream",
     "text": [
      "1\n",
      "3\n",
      "5\n",
      "2\n"
     ]
    }
   ],
   "source": [
    "a1=int(input())\n",
    "a2=int(input())\n",
    "a3=int(input())\n",
    "d=a2-a1\n",
    "print(d)"
   ]
  },
  {
   "cell_type": "markdown",
   "id": "f2dc4e72",
   "metadata": {},
   "source": [
    "You are given a rectangle in a plane. The coordinates of one of its diagonals are provided to you. You have to print the total area of the rectangle.\n",
    "The coordinates of the rectangle are provided as four integral values: x1, y1, x2, y2. It is given that x1 < x2 and y1 < y2."
   ]
  },
  {
   "cell_type": "code",
   "execution_count": 4,
   "id": "5d3e0c9b",
   "metadata": {},
   "outputs": [
    {
     "name": "stdout",
     "output_type": "stream",
     "text": [
      "1\n",
      "1\n",
      "2\n",
      "2\n",
      "1\n"
     ]
    }
   ],
   "source": [
    "x1=int(input())\n",
    "y1=int(input())\n",
    "x2=int(input())\n",
    "y2=int(input())\n",
    "Area=((x2-x1)*(y2-y1))\n",
    "print(Area)"
   ]
  },
  {
   "cell_type": "code",
   "execution_count": null,
   "id": "0d0d8134",
   "metadata": {},
   "outputs": [],
   "source": []
  }
 ],
 "metadata": {
  "kernelspec": {
   "display_name": "Python 3",
   "language": "python",
   "name": "python3"
  },
  "language_info": {
   "codemirror_mode": {
    "name": "ipython",
    "version": 3
   },
   "file_extension": ".py",
   "mimetype": "text/x-python",
   "name": "python",
   "nbconvert_exporter": "python",
   "pygments_lexer": "ipython3",
   "version": "3.8.8"
  }
 },
 "nbformat": 4,
 "nbformat_minor": 5
}
